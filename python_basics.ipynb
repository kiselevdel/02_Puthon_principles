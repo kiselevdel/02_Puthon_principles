{
 "cells": [
  {
   "cell_type": "markdown",
   "metadata": {},
   "source": [
    "**Задание 1**. Даны 2 строки: *long_phrase* и *short_phrase*. \n",
    "Напишите код, который проверяет действительно ли длинная фраза *long_phrase* длиннее короткой *short_phrase*. И выводит *True* или *False* в зависимости от результата сравнения."
   ]
  },
  {
   "cell_type": "code",
   "execution_count": 3,
   "metadata": {},
   "outputs": [
    {
     "name": "stdout",
     "output_type": "stream",
     "text": [
      "True\n"
     ]
    }
   ],
   "source": [
    "long_phrase = 'Насколько проще было бы писать программы, если бы не заказчики'\n",
    "short_phrase = '640Кб должно хватить для любых задач. Билл Гейтс (по легенде)'\n",
    "if len(long_phrase) > len(short_phrase):\n",
    "    print('True')\n",
    "else:\n",
    "    print('False')"
   ]
  },
  {
   "cell_type": "code",
   "execution_count": 4,
   "metadata": {},
   "outputs": [
    {
     "name": "stdout",
     "output_type": "stream",
     "text": [
      "True\n"
     ]
    }
   ],
   "source": [
    "if len(long_phrase) > len(short_phrase):\n",
    "    print('True')\n",
    "else:\n",
    "    print('False')"
   ]
  },
  {
   "cell_type": "markdown",
   "metadata": {},
   "source": [
    "**Задание 2**. Дано значение объема файла в байтах (*в мегабайте 2^20 байт*). Напишите перевод этого значения в мегабайты в формате: \"*Объем файла равен 213.68Mb*\"."
   ]
  },
  {
   "cell_type": "code",
   "execution_count": 7,
   "metadata": {},
   "outputs": [
    {
     "name": "stdout",
     "output_type": "stream",
     "text": [
      "(224059719.68, 'b')\n"
     ]
    }
   ],
   "source": [
    "x = 213.68, 'Mb'\n",
    "y = 213.68 * 2 **20, 'b'\n",
    "print(y)"
   ]
  },
  {
   "cell_type": "markdown",
   "metadata": {},
   "source": [
    "**Задание 3**. Разработать приложение для определения знака зодиака по дате рождения. Пример:\n",
    "\n",
    "Введите месяц: март\n",
    "\n",
    "Введите число: 6\n",
    "\n",
    "Вывод:\n",
    "Рыбы"
   ]
  },
  {
   "cell_type": "code",
   "execution_count": 19,
   "metadata": {},
   "outputs": [
    {
     "name": "stdout",
     "output_type": "stream",
     "text": [
      "Введите месяцдекабрь\n",
      "Введие число31\n",
      "Козерог\n"
     ]
    }
   ],
   "source": [
    "user_mouth = input('Введите месяц')\n",
    "user_number = int(input('Введие число'))\n",
    "if (user_number >= 1  and user_number <= 31):\n",
    "    if (user_number >= 1 and user_number <= 28):\n",
    "        if (user_number >= 21 and user_mouth == 'февраль') or (user_number <= 20 and user_mouth == 'март'):\n",
    "            print('Рыбы')\n",
    "    else:\n",
    "        if (user_number >= 1 and user_number <= 30):\n",
    "            if (user_number >= 21 and user_mouth == 'апрель') or (user_number <= 20 and user_mouth == 'май'):\n",
    "                print('Телец')\n",
    "            elif (user_number >= 21 and user_mouth == 'июнь') or (user_number <= 20 and user_mouth == 'июль'):\n",
    "                print('Рак')\n",
    "            elif (user_number >= 21 and user_mouth == 'сентябрь') or (user_number <= 20 and user_mouth == 'октябрь'):\n",
    "                print('Весы')\n",
    "            elif (user_number >= 21 and user_mouth == 'ноябрь') or (user_number <= 20 and user_mouth == 'декабрь'):\n",
    "                print('Стрелец')\n",
    "        if (user_number >= 1 and user_number <= 31):\n",
    "            if (user_number >= 21 and user_mouth == 'январь') or (user_number <= 20 and user_mouth == 'февраль'):\n",
    "                print('Водолей')\n",
    "            elif (user_number >= 21 and user_mouth == 'март') or (user_number <= 20 and user_mouth == 'апрель'):\n",
    "                print('Овен')\n",
    "            elif (user_number >= 21 and user_mouth == 'май') or (user_number <= 20 and user_mouth == 'июнь'):\n",
    "                print('Близнецы')\n",
    "            elif (user_number >= 21 and user_mouth == 'июль') or (user_number <= 20 and user_mouth == 'август'):\n",
    "                print('Рак')\n",
    "            elif (user_number >= 21 and user_mouth == 'август') or (user_number <= 20 and user_mouth == 'сентябрь'):\n",
    "                print('Дева')\n",
    "            elif (user_number >= 21 and user_mouth == 'октябрь') or (user_number <= 20 and user_mouth == 'ноябрь'):\n",
    "                print('Скорпион')\n",
    "            elif (user_number >= 21 and user_mouth == 'декабрь') or (user_number <= 20 and user_mouth == 'январь'):\n",
    "                print('Козерог')\n",
    "else:\n",
    "    print('Неправильная дата')\n",
    "    \n",
    "    "
   ]
  },
  {
   "cell_type": "markdown",
   "metadata": {},
   "source": [
    "**Задание 4**. Нужно разработать приложение для финансового планирования.\n",
    "Приложение учитывает сколько уходит на ипотеку, \"на жизнь\" и сколько нужно отложить на пенсию.\n",
    "Пользователь вводит:\n",
    "- заработанную плату в месяц.\n",
    "- сколько процентов от ЗП уходит на ипотеку.\n",
    "- сколько процентов от ЗП уходит \"на жизнь\".\n",
    "- сколько раз приходит премия в год.\n",
    "\n",
    "Остальная часть заработанной платы откладывается на пенсию.\n",
    "\n",
    "Также пользователю приходит премия в размере зарплаты, от которой половина уходит на отпуск, а вторая половина откладывается.\n",
    "\n",
    "Программа должна учитывать сколько премий было в год.\n",
    "\n",
    "Нужно вывести сколько денег тратит пользователь на ипотеку и сколько он накопит за год.\n",
    "\n",
    "Пример:\n",
    "\n",
    "Введите заработанную плату в месяц: 100000\n",
    "\n",
    "Введите сколько процентов уходит на ипотеку: 30\n",
    "\n",
    "Введите сколько процентов уходит на жизнь: 50\n",
    "\n",
    "Введите количество премий за год: 2\n",
    "\n",
    "Вывод:\n",
    "На ипотеку было потрачено: 360000 рублей\n",
    "Было накоплено: 340000 рублей"
   ]
  },
  {
   "cell_type": "code",
   "execution_count": null,
   "metadata": {},
   "outputs": [],
   "source": []
  }
 ],
 "metadata": {
  "kernelspec": {
   "display_name": "Python 3",
   "language": "python",
   "name": "python3"
  },
  "language_info": {
   "codemirror_mode": {
    "name": "ipython",
    "version": 3
   },
   "file_extension": ".py",
   "mimetype": "text/x-python",
   "name": "python",
   "nbconvert_exporter": "python",
   "pygments_lexer": "ipython3",
   "version": "3.8.5"
  }
 },
 "nbformat": 4,
 "nbformat_minor": 2
}
